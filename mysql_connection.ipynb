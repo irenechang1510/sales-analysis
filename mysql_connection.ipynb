{
 "cells": [
  {
   "cell_type": "code",
   "execution_count": 36,
   "metadata": {},
   "outputs": [
    {
     "name": "stdout",
     "output_type": "stream",
     "text": [
      "Database sales does not exists.\n",
      "Database sales created successfully.\n"
     ]
    }
   ],
   "source": [
    "import mysql.connector\n",
    "from mysql.connector import errorcode\n",
    "import pandas as pd\n",
    "\n",
    "# connect to my sql localhost\n",
    "conn = mysql.connector.connect(user='root', password='sql',\n",
    "                              host='localhost')\n",
    "\n",
    "# creating pseudo tables to later transfer data from csv in\n",
    "TABLES = {}\n",
    "\n",
    "TABLES['train'] = (\n",
    "    \"CREATE TABLE `train` (\"\n",
    "    \"   `id` int(16),\"\n",
    "    \"   `date` date,\"\n",
    "    \"   `store_nbr` int(16),\"\n",
    "    \"   `family` varchar(255),\"\n",
    "    \"   `sales` float(16),\"\n",
    "    \"   `onpromotion` int(16),\"\n",
    "    \"  PRIMARY KEY (`id`)\"\n",
    "    \")\"\n",
    ")\n",
    "\n",
    "TABLES['holidays_events'] = (\n",
    "    \"CREATE TABLE `holidays` (\"\n",
    "    \"   `date` date,\"\n",
    "    \"   `type` varchar(255),\"\n",
    "    \"   `locale` varchar(255),\"\n",
    "    \"   `locale_name` varchar(255),\"\n",
    "    \"   `description` varchar(255),\"\n",
    "    \"   `transferred` int(16)\"\n",
    "    \")\"\n",
    ")\n",
    "\n",
    "TABLES['oil'] = (\n",
    "    \"CREATE TABLE `oil` (\"\n",
    "    \"   `date` date,\"\n",
    "    \"   `dcoilwtico` float(16)\"\n",
    "    \")\"\n",
    ")\n",
    "\n",
    "TABLES['stores'] = (\n",
    "    \"CREATE TABLE `stores` (\"\n",
    "    \"   `store_nbr` int(16),\"\n",
    "    \"   `city` varchar(255),\"\n",
    "    \"   `state` varchar(255),\"\n",
    "    \"   `type` varchar(255),\"\n",
    "    \"   `cluster` int(16)\"\n",
    "    \")\"\n",
    ")\n",
    "\n",
    "TABLES['transactions'] = (\n",
    "    \"CREATE TABLE `transactions` (\"\n",
    "    \"   `date` date,\"\n",
    "    \"   `store_nbr` int(16),\"\n",
    "    \"   `transactions` int(16)\"\n",
    "    \")\"\n",
    ")\n",
    "\n",
    "cur = conn.cursor()\n",
    "\n",
    "DB_NAME = 'sales'\n",
    "def create_database(cursor):\n",
    "    try:\n",
    "        cursor.execute(\n",
    "            \"CREATE DATABASE {} DEFAULT CHARACTER SET 'utf8'\".format(DB_NAME))\n",
    "    except mysql.connector.Error as err:\n",
    "        print(\"Failed creating database: {}\".format(err))\n",
    "        exit(1)\n",
    "try:\n",
    "    cur.execute(\"USE {}\".format(DB_NAME))\n",
    "except mysql.connector.Error as err:\n",
    "    print(\"Database {} does not exists.\".format(DB_NAME))\n",
    "    if err.errno == errorcode.ER_BAD_DB_ERROR:\n",
    "        create_database(cur)\n",
    "        print(\"Database {} created successfully.\".format(DB_NAME))\n",
    "        conn.database = DB_NAME\n",
    "    else:\n",
    "        print(err)\n",
    "        exit(1)"
   ]
  },
  {
   "cell_type": "code",
   "execution_count": 37,
   "metadata": {},
   "outputs": [
    {
     "name": "stdout",
     "output_type": "stream",
     "text": [
      "Creating table train: OK\n",
      "Creating table holidays_events: OK\n",
      "Creating table oil: OK\n",
      "Creating table stores: OK\n"
     ]
    }
   ],
   "source": [
    "for table_name in TABLES:\n",
    "    table_description = TABLES[table_name]\n",
    "    try:\n",
    "        print(\"Creating table {}: \".format(table_name), end='')\n",
    "        cur.execute(table_description)\n",
    "    except mysql.connector.Error as err:\n",
    "        if err.errno == errorcode.ER_TABLE_EXISTS_ERROR:\n",
    "            print(\"already exists.\")\n",
    "        else:\n",
    "            print(\"Error: \", err.msg)\n",
    "    else:\n",
    "        print(\"OK\")"
   ]
  },
  {
   "cell_type": "code",
   "execution_count": 52,
   "metadata": {},
   "outputs": [],
   "source": [
    "import pandas as pd\n",
    "train_data = pd.read_csv('train.csv')\n",
    "for i,row in train_data.iterrows():\n",
    "    #here %s means string values \n",
    "    sql = \"INSERT INTO sales.train VALUES (%s,%s,%s,%s,%s,%s)\"\n",
    "    cur.execute(sql, tuple(row))\n",
    "    # the connection is not auto committed by default, so we must commit to save our changes\n",
    "    conn.commit()\n",
    "\n",
    "holiday_data = pd.read_csv('holidays_events.csv')\n",
    "for i,row in holiday_data.iterrows():\n",
    "    #here %S means string values \n",
    "    sql = \"INSERT INTO sales.holidays VALUES (%s,%s,%s,%s,%s,%s)\"\n",
    "    cur.execute(sql, tuple(row))\n",
    "    # the connection is not auto committed by default, so we must commit to save our changes\n",
    "    conn.commit()\n",
    "\n",
    "oil_data = pd.read_csv('oil.csv')\n",
    "oil_data = oil_data.astype(object).where(pd.notnull(oil_data), None)\n",
    "for i,row in oil_data.iterrows():\n",
    "    #here %S means string values \n",
    "    sql = \"INSERT INTO sales.oil VALUES (%s,%s)\"\n",
    "    cur.execute(sql, tuple(row))\n",
    "    # the connection is not auto committed by default, so we must commit to save our changes\n",
    "    conn.commit()\n",
    "\n",
    "store_data = pd.read_csv('stores.csv')\n",
    "for i,row in store_data.iterrows():\n",
    "    #here %S means string values \n",
    "    sql = \"INSERT INTO sales.stores VALUES (%s,%s,%s,%s,%s)\"\n",
    "    cur.execute(sql, tuple(row))\n",
    "    # the connection is not auto committed by default, so we must commit to save our changes\n",
    "    conn.commit()\n",
    "\n",
    "transaction_data = pd.read_csv('transactions.csv')\n",
    "for i,row in transaction_data.iterrows():\n",
    "    #here %S means string values \n",
    "    sql = \"INSERT INTO sales.transactions VALUES (%s,%s,%s)\"\n",
    "    cur.execute(sql, tuple(row))\n",
    "    # the connection is not auto committed by default, so we must commit to save our changes\n",
    "    conn.commit()"
   ]
  },
  {
   "cell_type": "code",
   "execution_count": 62,
   "metadata": {},
   "outputs": [],
   "source": [
    "conn.close()"
   ]
  }
 ],
 "metadata": {
  "interpreter": {
   "hash": "40d3a090f54c6569ab1632332b64b2c03c39dcf918b08424e98f38b5ae0af88f"
  },
  "kernelspec": {
   "display_name": "Python 3.7.6 64-bit ('base': conda)",
   "language": "python",
   "name": "python3"
  },
  "language_info": {
   "codemirror_mode": {
    "name": "ipython",
    "version": 3
   },
   "file_extension": ".py",
   "mimetype": "text/x-python",
   "name": "python",
   "nbconvert_exporter": "python",
   "pygments_lexer": "ipython3",
   "version": "3.7.6"
  },
  "orig_nbformat": 4
 },
 "nbformat": 4,
 "nbformat_minor": 2
}
